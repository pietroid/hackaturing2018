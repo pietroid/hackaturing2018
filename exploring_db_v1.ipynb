{
 "cells": [
  {
   "cell_type": "code",
   "execution_count": 11,
   "metadata": {},
   "outputs": [],
   "source": [
    "import pandas as pd"
   ]
  },
  {
   "cell_type": "code",
   "execution_count": 12,
   "metadata": {},
   "outputs": [],
   "source": [
    "from collections import Counter"
   ]
  },
  {
   "cell_type": "code",
   "execution_count": 5,
   "metadata": {},
   "outputs": [],
   "source": [
    "%matplotlib qt5"
   ]
  },
  {
   "cell_type": "code",
   "execution_count": 2,
   "metadata": {},
   "outputs": [
    {
     "name": "stderr",
     "output_type": "stream",
     "text": [
      "/Library/Frameworks/Python.framework/Versions/3.6/lib/python3.6/site-packages/IPython/core/interactiveshell.py:2785: DtypeWarning: Columns (7) have mixed types. Specify dtype option on import or set low_memory=False.\n",
      "  interactivity=interactivity, compiler=compiler, result=result)\n"
     ]
    }
   ],
   "source": [
    "dataset = pd.read_csv('hackaturing_orizon_db.txt', sep='|')"
   ]
  },
  {
   "cell_type": "code",
   "execution_count": 13,
   "metadata": {},
   "outputs": [],
   "source": [
    "dsC = Counter(dataset)"
   ]
  },
  {
   "cell_type": "code",
   "execution_count": 6,
   "metadata": {},
   "outputs": [
    {
     "data": {
      "text/html": [
       "<div>\n",
       "<style scoped>\n",
       "    .dataframe tbody tr th:only-of-type {\n",
       "        vertical-align: middle;\n",
       "    }\n",
       "\n",
       "    .dataframe tbody tr th {\n",
       "        vertical-align: top;\n",
       "    }\n",
       "\n",
       "    .dataframe thead th {\n",
       "        text-align: right;\n",
       "    }\n",
       "</style>\n",
       "<table border=\"1\" class=\"dataframe\">\n",
       "  <thead>\n",
       "    <tr style=\"text-align: right;\">\n",
       "      <th></th>\n",
       "      <th>base_hackaturing.cnpj</th>\n",
       "      <th>base_hackaturing.prestador</th>\n",
       "      <th>base_hackaturing.uf</th>\n",
       "      <th>base_hackaturing.id_beneficiario</th>\n",
       "      <th>base_hackaturing.sexo</th>\n",
       "      <th>base_hackaturing.data_nascimento</th>\n",
       "      <th>base_hackaturing.id_conta</th>\n",
       "      <th>base_hackaturing.cid</th>\n",
       "      <th>base_hackaturing.crm_solicitante</th>\n",
       "      <th>base_hackaturing.cbos_solicitante</th>\n",
       "      <th>...</th>\n",
       "      <th>base_hackaturing.tipo_guia</th>\n",
       "      <th>base_hackaturing.tipo_item</th>\n",
       "      <th>base_hackaturing.carater_atendimento</th>\n",
       "      <th>base_hackaturing.servico</th>\n",
       "      <th>base_hackaturing.descricao_despesa</th>\n",
       "      <th>base_hackaturing.quantidade</th>\n",
       "      <th>base_hackaturing.valor_item</th>\n",
       "      <th>base_hackaturing.valor_cobrado</th>\n",
       "      <th>base_hackaturing.valor_pago</th>\n",
       "      <th>base_hackaturing.ano_mes</th>\n",
       "    </tr>\n",
       "  </thead>\n",
       "  <tbody>\n",
       "    <tr>\n",
       "      <th>0</th>\n",
       "      <td>1deff610d3afbb1bc2403d03bb1e53ca</td>\n",
       "      <td>f3f4b65055a7f48e36488ac636ba9b5a</td>\n",
       "      <td>SP</td>\n",
       "      <td>ecdc61d19fd126067e5395f57655796f</td>\n",
       "      <td>F</td>\n",
       "      <td>1936-07-05</td>\n",
       "      <td>d2b1252a15812fca5d1d979c7acbb27d</td>\n",
       "      <td>NaN</td>\n",
       "      <td>d41d8cd98f00b204e9800998ecf8427e</td>\n",
       "      <td>NaN</td>\n",
       "      <td>...</td>\n",
       "      <td>Internacao</td>\n",
       "      <td>MEDICAMENTOS</td>\n",
       "      <td>ELETIVO</td>\n",
       "      <td>55851.0</td>\n",
       "      <td>PROBIATOP 1G LACTOPRO PO</td>\n",
       "      <td>2.0</td>\n",
       "      <td>5.9840</td>\n",
       "      <td>5.9840</td>\n",
       "      <td>5.9840</td>\n",
       "      <td>201610</td>\n",
       "    </tr>\n",
       "    <tr>\n",
       "      <th>1</th>\n",
       "      <td>1deff610d3afbb1bc2403d03bb1e53ca</td>\n",
       "      <td>f3f4b65055a7f48e36488ac636ba9b5a</td>\n",
       "      <td>SP</td>\n",
       "      <td>474dbcdd82fb709261c643f8aeb328f8</td>\n",
       "      <td>M</td>\n",
       "      <td>1963-03-04</td>\n",
       "      <td>17c29be731d33ede20056ed4c8b4e5ec</td>\n",
       "      <td>NaN</td>\n",
       "      <td>d41d8cd98f00b204e9800998ecf8427e</td>\n",
       "      <td>NaN</td>\n",
       "      <td>...</td>\n",
       "      <td>Internacao</td>\n",
       "      <td>MEDICAMENTOS</td>\n",
       "      <td>ELETIVO</td>\n",
       "      <td>61005.0</td>\n",
       "      <td>SORO FISIOLOGICO 100M</td>\n",
       "      <td>1.0</td>\n",
       "      <td>6.1030</td>\n",
       "      <td>0.6035</td>\n",
       "      <td>0.6035</td>\n",
       "      <td>201610</td>\n",
       "    </tr>\n",
       "    <tr>\n",
       "      <th>2</th>\n",
       "      <td>1deff610d3afbb1bc2403d03bb1e53ca</td>\n",
       "      <td>f3f4b65055a7f48e36488ac636ba9b5a</td>\n",
       "      <td>SP</td>\n",
       "      <td>8bfeb1e7e1eb30f828ed305da99a5879</td>\n",
       "      <td>F</td>\n",
       "      <td>1945-01-15</td>\n",
       "      <td>adefa9bd776553890d37d8ebb0462340</td>\n",
       "      <td>NaN</td>\n",
       "      <td>d41d8cd98f00b204e9800998ecf8427e</td>\n",
       "      <td>NaN</td>\n",
       "      <td>...</td>\n",
       "      <td>Internacao</td>\n",
       "      <td>MATERIAIS</td>\n",
       "      <td>ELETIVO</td>\n",
       "      <td>256200.0</td>\n",
       "      <td>HIPOCLORITO SODIO  POR ML</td>\n",
       "      <td>100.0</td>\n",
       "      <td>0.8500</td>\n",
       "      <td>0.8500</td>\n",
       "      <td>0.8500</td>\n",
       "      <td>201610</td>\n",
       "    </tr>\n",
       "    <tr>\n",
       "      <th>3</th>\n",
       "      <td>1deff610d3afbb1bc2403d03bb1e53ca</td>\n",
       "      <td>f3f4b65055a7f48e36488ac636ba9b5a</td>\n",
       "      <td>SP</td>\n",
       "      <td>0de0de46f846e2ed0ee5e03ae17003c5</td>\n",
       "      <td>F</td>\n",
       "      <td>1963-08-22</td>\n",
       "      <td>cb8915f145f01ad43d6b28a10544566b</td>\n",
       "      <td>NaN</td>\n",
       "      <td>d41d8cd98f00b204e9800998ecf8427e</td>\n",
       "      <td>NaN</td>\n",
       "      <td>...</td>\n",
       "      <td>Internacao</td>\n",
       "      <td>MATERIAIS</td>\n",
       "      <td>ELETIVO</td>\n",
       "      <td>280022.0</td>\n",
       "      <td>ARNICA GEL 30G TB</td>\n",
       "      <td>1.0</td>\n",
       "      <td>15.5805</td>\n",
       "      <td>15.5805</td>\n",
       "      <td>15.5805</td>\n",
       "      <td>201610</td>\n",
       "    </tr>\n",
       "    <tr>\n",
       "      <th>4</th>\n",
       "      <td>1deff610d3afbb1bc2403d03bb1e53ca</td>\n",
       "      <td>f3f4b65055a7f48e36488ac636ba9b5a</td>\n",
       "      <td>SP</td>\n",
       "      <td>4b68daa346363196bed3e70bb20a869f</td>\n",
       "      <td>M</td>\n",
       "      <td>1957-01-18</td>\n",
       "      <td>3e870dd98a8e673e586bc3a63c77e767</td>\n",
       "      <td>NaN</td>\n",
       "      <td>d41d8cd98f00b204e9800998ecf8427e</td>\n",
       "      <td>NaN</td>\n",
       "      <td>...</td>\n",
       "      <td>Internacao</td>\n",
       "      <td>MEDICAMENTOS</td>\n",
       "      <td>ELETIVO</td>\n",
       "      <td>61005.0</td>\n",
       "      <td>SORO FISIOLOGICO 100M</td>\n",
       "      <td>1.0</td>\n",
       "      <td>6.1030</td>\n",
       "      <td>0.6035</td>\n",
       "      <td>0.6035</td>\n",
       "      <td>201610</td>\n",
       "    </tr>\n",
       "  </tbody>\n",
       "</table>\n",
       "<p>5 rows × 25 columns</p>\n",
       "</div>"
      ],
      "text/plain": [
       "              base_hackaturing.cnpj        base_hackaturing.prestador  \\\n",
       "0  1deff610d3afbb1bc2403d03bb1e53ca  f3f4b65055a7f48e36488ac636ba9b5a   \n",
       "1  1deff610d3afbb1bc2403d03bb1e53ca  f3f4b65055a7f48e36488ac636ba9b5a   \n",
       "2  1deff610d3afbb1bc2403d03bb1e53ca  f3f4b65055a7f48e36488ac636ba9b5a   \n",
       "3  1deff610d3afbb1bc2403d03bb1e53ca  f3f4b65055a7f48e36488ac636ba9b5a   \n",
       "4  1deff610d3afbb1bc2403d03bb1e53ca  f3f4b65055a7f48e36488ac636ba9b5a   \n",
       "\n",
       "  base_hackaturing.uf  base_hackaturing.id_beneficiario base_hackaturing.sexo  \\\n",
       "0                  SP  ecdc61d19fd126067e5395f57655796f                     F   \n",
       "1                  SP  474dbcdd82fb709261c643f8aeb328f8                     M   \n",
       "2                  SP  8bfeb1e7e1eb30f828ed305da99a5879                     F   \n",
       "3                  SP  0de0de46f846e2ed0ee5e03ae17003c5                     F   \n",
       "4                  SP  4b68daa346363196bed3e70bb20a869f                     M   \n",
       "\n",
       "  base_hackaturing.data_nascimento         base_hackaturing.id_conta  \\\n",
       "0                       1936-07-05  d2b1252a15812fca5d1d979c7acbb27d   \n",
       "1                       1963-03-04  17c29be731d33ede20056ed4c8b4e5ec   \n",
       "2                       1945-01-15  adefa9bd776553890d37d8ebb0462340   \n",
       "3                       1963-08-22  cb8915f145f01ad43d6b28a10544566b   \n",
       "4                       1957-01-18  3e870dd98a8e673e586bc3a63c77e767   \n",
       "\n",
       "  base_hackaturing.cid  base_hackaturing.crm_solicitante  \\\n",
       "0                  NaN  d41d8cd98f00b204e9800998ecf8427e   \n",
       "1                  NaN  d41d8cd98f00b204e9800998ecf8427e   \n",
       "2                  NaN  d41d8cd98f00b204e9800998ecf8427e   \n",
       "3                  NaN  d41d8cd98f00b204e9800998ecf8427e   \n",
       "4                  NaN  d41d8cd98f00b204e9800998ecf8427e   \n",
       "\n",
       "   base_hackaturing.cbos_solicitante           ...             \\\n",
       "0                                NaN           ...              \n",
       "1                                NaN           ...              \n",
       "2                                NaN           ...              \n",
       "3                                NaN           ...              \n",
       "4                                NaN           ...              \n",
       "\n",
       "   base_hackaturing.tipo_guia base_hackaturing.tipo_item  \\\n",
       "0                  Internacao               MEDICAMENTOS   \n",
       "1                  Internacao               MEDICAMENTOS   \n",
       "2                  Internacao                  MATERIAIS   \n",
       "3                  Internacao                  MATERIAIS   \n",
       "4                  Internacao               MEDICAMENTOS   \n",
       "\n",
       "  base_hackaturing.carater_atendimento base_hackaturing.servico  \\\n",
       "0                              ELETIVO                  55851.0   \n",
       "1                              ELETIVO                  61005.0   \n",
       "2                              ELETIVO                 256200.0   \n",
       "3                              ELETIVO                 280022.0   \n",
       "4                              ELETIVO                  61005.0   \n",
       "\n",
       "  base_hackaturing.descricao_despesa base_hackaturing.quantidade  \\\n",
       "0           PROBIATOP 1G LACTOPRO PO                         2.0   \n",
       "1              SORO FISIOLOGICO 100M                         1.0   \n",
       "2          HIPOCLORITO SODIO  POR ML                       100.0   \n",
       "3                  ARNICA GEL 30G TB                         1.0   \n",
       "4              SORO FISIOLOGICO 100M                         1.0   \n",
       "\n",
       "  base_hackaturing.valor_item base_hackaturing.valor_cobrado  \\\n",
       "0                      5.9840                         5.9840   \n",
       "1                      6.1030                         0.6035   \n",
       "2                      0.8500                         0.8500   \n",
       "3                     15.5805                        15.5805   \n",
       "4                      6.1030                         0.6035   \n",
       "\n",
       "   base_hackaturing.valor_pago base_hackaturing.ano_mes  \n",
       "0                       5.9840                   201610  \n",
       "1                       0.6035                   201610  \n",
       "2                       0.8500                   201610  \n",
       "3                      15.5805                   201610  \n",
       "4                       0.6035                   201610  \n",
       "\n",
       "[5 rows x 25 columns]"
      ]
     },
     "execution_count": 6,
     "metadata": {},
     "output_type": "execute_result"
    }
   ],
   "source": [
    "dataset.head()"
   ]
  },
  {
   "cell_type": "code",
   "execution_count": 4,
   "metadata": {},
   "outputs": [
    {
     "data": {
      "text/plain": [
       "4827171"
      ]
     },
     "execution_count": 4,
     "metadata": {},
     "output_type": "execute_result"
    }
   ],
   "source": [
    "len(dataset)"
   ]
  },
  {
   "cell_type": "code",
   "execution_count": 10,
   "metadata": {},
   "outputs": [
    {
     "data": {
      "text/plain": [
       "201804"
      ]
     },
     "execution_count": 10,
     "metadata": {},
     "output_type": "execute_result"
    }
   ],
   "source": [
    "max(dataset[\"base_hackaturing.ano_mes\"])"
   ]
  },
  {
   "cell_type": "code",
   "execution_count": 19,
   "metadata": {},
   "outputs": [
    {
     "name": "stdout",
     "output_type": "stream",
     "text": [
      "dict_keys(['ELETIVO', 'URGENCIA', '-'])\n",
      "dict_values([3124958, 1536593, 165620])\n"
     ]
    }
   ],
   "source": [
    "print(Counter(dataset[\"base_hackaturing.carater_atendimento\"]).keys())\n",
    "print(Counter(dataset[\"base_hackaturing.carater_atendimento\"]).values())"
   ]
  },
  {
   "cell_type": "code",
   "execution_count": 20,
   "metadata": {},
   "outputs": [
    {
     "name": "stdout",
     "output_type": "stream",
     "text": [
      "dict_keys(['MEDICAMENTOS', 'MATERIAIS', 'PROCEDIMENTO', 'DIARIAS', 'TAXAS DIVERSAS', 'OPME', 'GASES MEDICINAIS'])\n",
      "dict_values([695858, 969399, 2800157, 61223, 247249, 21936, 31349])\n"
     ]
    }
   ],
   "source": [
    "print(Counter(dataset[\"base_hackaturing.tipo_item\"]).keys())\n",
    "print(Counter(dataset[\"base_hackaturing.tipo_item\"]).values())"
   ]
  },
  {
   "cell_type": "code",
   "execution_count": 26,
   "metadata": {},
   "outputs": [
    {
     "name": "stdout",
     "output_type": "stream",
     "text": [
      "[21936, 31349, 61223, 247249, 695858, 969399, 2800157]\n"
     ]
    }
   ],
   "source": [
    "print(sorted([695858, 969399, 2800157, 61223, 247249, 21936, 31349]))"
   ]
  },
  {
   "cell_type": "code",
   "execution_count": null,
   "metadata": {},
   "outputs": [],
   "source": []
  }
 ],
 "metadata": {
  "kernelspec": {
   "display_name": "Python 3",
   "language": "python",
   "name": "python3"
  },
  "language_info": {
   "codemirror_mode": {
    "name": "ipython",
    "version": 3
   },
   "file_extension": ".py",
   "mimetype": "text/x-python",
   "name": "python",
   "nbconvert_exporter": "python",
   "pygments_lexer": "ipython3",
   "version": "3.6.5"
  }
 },
 "nbformat": 4,
 "nbformat_minor": 2
}
