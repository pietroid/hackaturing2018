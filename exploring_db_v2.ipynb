{
 "cells": [
  {
   "cell_type": "code",
   "execution_count": 1,
   "metadata": {},
   "outputs": [],
   "source": [
    "import pandas as pd"
   ]
  },
  {
   "cell_type": "code",
   "execution_count": 2,
   "metadata": {},
   "outputs": [],
   "source": [
    "from collections import Counter"
   ]
  },
  {
   "cell_type": "code",
   "execution_count": 3,
   "metadata": {},
   "outputs": [],
   "source": [
    "import numpy as np"
   ]
  },
  {
   "cell_type": "code",
   "execution_count": 4,
   "metadata": {},
   "outputs": [],
   "source": [
    "%matplotlib qt5"
   ]
  },
  {
   "cell_type": "code",
   "execution_count": 5,
   "metadata": {},
   "outputs": [
    {
     "name": "stderr",
     "output_type": "stream",
     "text": [
      "/Library/Frameworks/Python.framework/Versions/3.6/lib/python3.6/site-packages/IPython/core/interactiveshell.py:2785: DtypeWarning: Columns (7) have mixed types. Specify dtype option on import or set low_memory=False.\n",
      "  interactivity=interactivity, compiler=compiler, result=result)\n"
     ]
    }
   ],
   "source": [
    "dataset = pd.read_csv('hackaturing_orizon_db.txt', sep='|')"
   ]
  },
  {
   "cell_type": "code",
   "execution_count": null,
   "metadata": {},
   "outputs": [],
   "source": [
    "dsC = Counter(dataset)"
   ]
  },
  {
   "cell_type": "code",
   "execution_count": null,
   "metadata": {},
   "outputs": [],
   "source": [
    "#dataset.sample(10)\n",
    "dataset.head()"
   ]
  },
  {
   "cell_type": "code",
   "execution_count": 21,
   "metadata": {},
   "outputs": [
    {
     "name": "stdout",
     "output_type": "stream",
     "text": [
      "cnpj\n",
      "prestador\n",
      "uf\n",
      "id_beneficiario\n",
      "sexo\n",
      "data_nascimento\n",
      "id_conta\n",
      "cid\n",
      "crm_solicitante\n",
      "cbos_solicitante\n",
      "cbos_executante\n",
      "data_entrada\n",
      "data_saida\n",
      "data_item\n",
      "senha\n",
      "tipo_guia\n",
      "tipo_item\n",
      "carater_atendimento\n",
      "servico\n",
      "descricao_despesa\n",
      "quantidade\n",
      "valor_item\n",
      "valor_cobrado\n",
      "valor_pago\n",
      "ano_mes\n"
     ]
    }
   ],
   "source": [
    "colunas = list(dataset.keys())\n",
    "for i in range(len(colunas)):\n",
    "    colunas[i] = colunas[i][17:]\n",
    "    print(colunas[i])\n",
    "# print(colunas)"
   ]
  },
  {
   "cell_type": "markdown",
   "metadata": {},
   "source": [
    "##### max(dataset[\"base_hackaturing.ano_mes\"])"
   ]
  },
  {
   "cell_type": "code",
   "execution_count": 23,
   "metadata": {},
   "outputs": [
    {
     "data": {
      "text/plain": [
       "1deff610d3afbb1bc2403d03bb1e53ca    660851\n",
       "0b68f30e2a8875b5e9f361d398b0aa0b        96\n",
       "9e69a4a513b10bfc615393a164918d2e        41\n",
       "1c23416f83ef4314e24af5749d3c5284        31\n",
       "c2f93ba8242b8d8e1ebb6592fd4347b6         6\n",
       "Name: base_hackaturing.cnpj, dtype: int64"
      ]
     },
     "execution_count": 23,
     "metadata": {},
     "output_type": "execute_result"
    }
   ],
   "source": [
    "dataset[np.isfinite(dataset['base_hackaturing.valor_pago'])][\"base_hackaturing.cnpj\"].value_counts()"
   ]
  },
  {
   "cell_type": "code",
   "execution_count": 24,
   "metadata": {},
   "outputs": [
    {
     "data": {
      "text/plain": [
       "0.999736772436746"
      ]
     },
     "execution_count": 24,
     "metadata": {},
     "output_type": "execute_result"
    }
   ],
   "source": [
    "660851/(660851 + 96 + 41 + 31 + 6)"
   ]
  },
  {
   "cell_type": "code",
   "execution_count": null,
   "metadata": {},
   "outputs": [],
   "source": [
    "print(Counter(dataset[\"base_hackaturing.tipo_guia\"]).keys()) #tipo_item\n",
    "print(Counter(dataset[\"base_hackaturing.tipo_guia\"]).values())"
   ]
  },
  {
   "cell_type": "code",
   "execution_count": null,
   "metadata": {},
   "outputs": [],
   "source": [
    "print(sorted([695858, 969399, 2800157, 61223, 247249, 21936, 31349]))"
   ]
  },
  {
   "cell_type": "code",
   "execution_count": null,
   "metadata": {},
   "outputs": [],
   "source": [
    "for tipo_item in ['MEDICAMENTOS', 'MATERIAIS', 'PROCEDIMENTO', 'DIARIAS', 'TAXAS DIVERSAS', 'OPME', 'GASES MEDICINAIS']:\n",
    "    print(tipo_item)\n",
    "    a = dataset[dataset[\"base_hackaturing.tipo_item\"]==tipo_item]['base_hackaturing.valor_pago'].dropna()\n",
    "    print(len(a))\n",
    "    print(sum(a)/len(a))\n",
    "    print(sum(a))"
   ]
  },
  {
   "cell_type": "code",
   "execution_count": null,
   "metadata": {},
   "outputs": [],
   "source": [
    "(12116217.6875006 + 21794042.882501543 + 12567160.537497275)/(12116217.6875006 + 21794042.882501543 + 12567160.537497275 + 6439828.140000676 + 7833369.479999458 + 108939.71449999997 + 2115569.309500099)"
   ]
  },
  {
   "cell_type": "code",
   "execution_count": null,
   "metadata": {},
   "outputs": [],
   "source": [
    "for tipo_item in ['PROCEDIMENTO', 'MATERIAIS', 'MEDICAMENTOS']:\n",
    "    print(tipo_item)\n",
    "    \n",
    "    a = dataset[dataset[\"base_hackaturing.tipo_item\"]==tipo_item]\n",
    "    a = a[np.isfinite(dataset['base_hackaturing.valor_pago'])]['base_hackaturing.valor_pago']\n",
    "    b = dataset[dataset[\"base_hackaturing.tipo_item\"]==tipo_item]\n",
    "    b = b[np.isfinite(dataset['base_hackaturing.valor_item'])]['base_hackaturing.valor_pago']\n",
    "    c = dataset[dataset[\"base_hackaturing.tipo_item\"]==tipo_item]\n",
    "    c = c['base_hackaturing.valor_pago']\n",
    "\n",
    "    print(1-len(a)/len(c))\n",
    "    print(1-len(b)/len(c))\n",
    "    print(len(c))\n",
    "#     print(sum(a)/len(a))\n",
    "#     print(sum(a))"
   ]
  },
  {
   "cell_type": "code",
   "execution_count": null,
   "metadata": {},
   "outputs": [],
   "source": [
    "for tipo_item in ['PROCEDIMENTO', 'MATERIAIS', 'MEDICAMENTOS']:\n",
    "    print(tipo_item)\n",
    "    \n",
    "    a = dataset[dataset[\"base_hackaturing.tipo_item\"]==tipo_item]\n",
    "    a = a[np.isfinite(dataset['base_hackaturing.valor_pago'])]\n",
    "\n",
    "    print(Counter(a[\"base_hackaturing.carater_atendimento\"]).keys())\n",
    "    print(Counter(a[\"base_hackaturing.carater_atendimento\"]).values())"
   ]
  },
  {
   "cell_type": "code",
   "execution_count": null,
   "metadata": {},
   "outputs": [],
   "source": [
    "(77314 - 174)/(77314+174)"
   ]
  },
  {
   "cell_type": "markdown",
   "metadata": {},
   "source": [
    "### Limpar dados\n",
    "- \"tipo_item\" = \"procedimento\", \"materiais\" ou \"medicamentos\"\n",
    "- \"carater_atendimento\" = \"eletivo\"\n",
    "- \"carater_atendimento\" = \"eletivo\"\n",
    "- \"valor_pago\" = NaN"
   ]
  },
  {
   "cell_type": "code",
   "execution_count": null,
   "metadata": {},
   "outputs": [],
   "source": [
    "d_clean = dataset[dataset[\"base_hackaturing.tipo_item\"]=='PROCEDIMENTO' || dataset[\"base_hackaturing.tipo_item\"]=='MATERIAIS' || dataset[\"base_hackaturing.tipo_item\"]=='MEDICAMENTOS']\n",
    "d_clean = d_clean[np.isfinite(d_clean['base_hackaturing.valor_pago'])] \n"
   ]
  },
  {
   "cell_type": "code",
   "execution_count": null,
   "metadata": {},
   "outputs": [],
   "source": [
    "hue = dataset[\"base_hackaturing.id_beneficiario\"]\n",
    "print(Counter(hue).keys())\n"
   ]
  },
  {
   "cell_type": "code",
   "execution_count": null,
   "metadata": {},
   "outputs": [],
   "source": [
    "pacientes = dataset[dataset[\"base_hackaturing.tipo_guia\"]==\"Internacao\"]"
   ]
  },
  {
   "cell_type": "code",
   "execution_count": null,
   "metadata": {},
   "outputs": [],
   "source": [
    "pacientes = pacientes[pacientes[\"base_hackaturing.cnpj\"]==\"1deff610d3afbb1bc2403d03bb1e53ca\"]"
   ]
  },
  {
   "cell_type": "code",
   "execution_count": null,
   "metadata": {},
   "outputs": [],
   "source": [
    "pacientes = pacientes[pacientes[\"base_hackaturing.carater_atendimento\"]==\"ELETIVO\"]"
   ]
  },
  {
   "cell_type": "code",
   "execution_count": null,
   "metadata": {},
   "outputs": [],
   "source": [
    "ids = list(Counter(dataset[\"base_hackaturing.id_beneficiario\"]).keys())"
   ]
  },
  {
   "cell_type": "code",
   "execution_count": null,
   "metadata": {},
   "outputs": [],
   "source": [
    "in_and_out = []*len(ids)\n",
    "\n",
    "for i in range(len(ids)):\n",
    "    aux = pacientes[pacientes[\"base_hackaturing.id_beneficiario\"]==ids[i]]\n",
    "    in_and_out = (min(aux[\"base_hackaturing.data_entrada\"]), max(aux[\"base_hackaturing.data_saida\"]))"
   ]
  },
  {
   "cell_type": "code",
   "execution_count": null,
   "metadata": {},
   "outputs": [],
   "source": [
    "len(paciente)"
   ]
  },
  {
   "cell_type": "code",
   "execution_count": null,
   "metadata": {},
   "outputs": [],
   "source": [
    "dataset[0]"
   ]
  },
  {
   "cell_type": "code",
   "execution_count": null,
   "metadata": {},
   "outputs": [],
   "source": []
  }
 ],
 "metadata": {
  "kernelspec": {
   "display_name": "Python 3",
   "language": "python",
   "name": "python3"
  },
  "language_info": {
   "codemirror_mode": {
    "name": "ipython",
    "version": 3
   },
   "file_extension": ".py",
   "mimetype": "text/x-python",
   "name": "python",
   "nbconvert_exporter": "python",
   "pygments_lexer": "ipython3",
   "version": "3.6.5"
  }
 },
 "nbformat": 4,
 "nbformat_minor": 2
}
